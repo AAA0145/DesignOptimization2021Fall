{
  "nbformat": 4,
  "nbformat_minor": 0,
  "metadata": {
    "colab": {
      "name": "Homework1.ipynb",
      "provenance": [],
      "collapsed_sections": [],
      "authorship_tag": "ABX9TyNjwK8hjmiCB6qzo9HO4fIW",
      "include_colab_link": true
    },
    "kernelspec": {
      "name": "python3",
      "display_name": "Python 3"
    },
    "language_info": {
      "name": "python"
    }
  },
  "cells": [
    {
      "cell_type": "markdown",
      "metadata": {
        "id": "view-in-github",
        "colab_type": "text"
      },
      "source": [
        "<a href=\"https://colab.research.google.com/github/AAA0145/DesignOptimization2021Fall/blob/main/Homework1.ipynb\" target=\"_parent\"><img src=\"https://colab.research.google.com/assets/colab-badge.svg\" alt=\"Open In Colab\"/></a>"
      ]
    },
    {
      "cell_type": "code",
      "metadata": {
        "colab": {
          "base_uri": "https://localhost:8080/"
        },
        "id": "UTfVz8cAadrY",
        "outputId": "2595bd24-48a4-4231-95ca-59e9f6c8de2a"
      },
      "source": [
        "from scipy.optimize import minimize\n",
        "fun = lambda x: (x[0] - x[1])**2 + (x[1] + x[2]-2)**2 + (x[3] - 1)**2 + (x[4]-1)**2\n",
        "cons = ({'type':'eq', 'fun':lambda x: x[0]+3*x[1]},\n",
        "       {'type': 'eq', 'fun':lambda x: x[2] + x[3] - 2*x[4]},\n",
        "       {'type': 'eq', 'fun':lambda x: x[1] - x[4]})\n",
        "bnds = ((-10,10),(-10,10),(-10,10),(-10,10),(-10,10))\n",
        "res = minimize(fun,(2,1,1,1,1),method='SLSQP',bounds=bnds, constraints = cons)\n",
        "res\n",
        "\n",
        "\n",
        "    "
      ],
      "execution_count": 34,
      "outputs": [
        {
          "output_type": "execute_result",
          "data": {
            "text/plain": [
              "     fun: 4.093023255829588\n",
              "     jac: array([-2.04764843, -0.18393797, -2.2315864 , -2.23267734, -1.48808789])\n",
              " message: 'Optimization terminated successfully.'\n",
              "    nfev: 50\n",
              "     nit: 7\n",
              "    njev: 7\n",
              "  status: 0\n",
              " success: True\n",
              "       x: array([-0.76744221,  0.25581407,  0.62790427, -0.11627612,  0.25581407])"
            ]
          },
          "metadata": {},
          "execution_count": 34
        }
      ]
    }
  ]
}