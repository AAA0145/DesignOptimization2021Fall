{
  "nbformat": 4,
  "nbformat_minor": 0,
  "metadata": {
    "colab": {
      "name": "Untitled0.ipynb",
      "provenance": [],
      "collapsed_sections": [],
      "authorship_tag": "ABX9TyOFgnmprLD+pyaeDOX0llbT",
      "include_colab_link": true
    },
    "kernelspec": {
      "name": "python3",
      "display_name": "Python 3"
    },
    "language_info": {
      "name": "python"
    }
  },
  "cells": [
    {
      "cell_type": "markdown",
      "metadata": {
        "id": "view-in-github",
        "colab_type": "text"
      },
      "source": [
        "<a href=\"https://colab.research.google.com/github/AAA0145/DesignOptimization2021Fall/blob/main/Untitled0.ipynb\" target=\"_parent\"><img src=\"https://colab.research.google.com/assets/colab-badge.svg\" alt=\"Open In Colab\"/></a>"
      ]
    },
    {
      "cell_type": "code",
      "metadata": {
        "colab": {
          "base_uri": "https://localhost:8080/"
        },
        "id": "UTfVz8cAadrY",
        "outputId": "74f34323-7112-40f7-982b-e933b4afd34d"
      },
      "source": [
        "from scipy.optimize import minimize\n",
        "fun = lambda x: (x[0] - x[2])**2 + (x[1] + x[2]-2)**2 + (x[3] - 1)**2 + (x[4]-1)**2\n",
        "cons = ({'type':'eq', 'fun':lambda x: x[0]+3*x[1]},\n",
        "       {'type': 'eq', 'fun':lambda x: x[2] + x[3] - 2*x[4]},\n",
        "       {'type': 'eq', 'fun':lambda x: -x[0] + 2*x[1] + 2})\n",
        "bnds = ((-10,10),(-10,10),(-10,10),(-10,10),(-10,10))\n",
        "res = minimize(fun,(1,3,4,5,6),method='SLSQP',bounds=bnds, constraints = cons)\n",
        "res\n",
        "\n",
        "\n",
        "    "
      ],
      "execution_count": null,
      "outputs": [
        {
          "output_type": "execute_result",
          "data": {
            "text/plain": [
              "     fun: 0.8363636363649362\n",
              "     jac: array([-1.05454643, -1.34545355, -0.29090709, -0.29091084,  0.58181781])\n",
              " message: 'Optimization terminated successfully.'\n",
              "    nfev: 43\n",
              "     nit: 6\n",
              "    njev: 6\n",
              "  status: 0\n",
              " success: True\n",
              "       x: array([ 1.2       , -0.4       ,  1.72727322,  0.85454457,  1.2909089 ])"
            ]
          },
          "metadata": {},
          "execution_count": 12
        }
      ]
    }
  ]
}