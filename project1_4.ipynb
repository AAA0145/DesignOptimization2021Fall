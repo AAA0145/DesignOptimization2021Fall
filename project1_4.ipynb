{
  "nbformat": 4,
  "nbformat_minor": 0,
  "metadata": {
    "colab": {
      "name": "project1_4.ipynb",
      "provenance": [],
      "authorship_tag": "ABX9TyNoGDG82V0P4XJ8chxGamQY",
      "include_colab_link": true
    },
    "kernelspec": {
      "name": "python3",
      "display_name": "Python 3"
    },
    "language_info": {
      "name": "python"
    }
  },
  "cells": [
    {
      "cell_type": "markdown",
      "metadata": {
        "id": "view-in-github",
        "colab_type": "text"
      },
      "source": [
        "<a href=\"https://colab.research.google.com/github/AAA0145/DesignOptimization2021Fall/blob/main/project1_4.ipynb\" target=\"_parent\"><img src=\"https://colab.research.google.com/assets/colab-badge.svg\" alt=\"Open In Colab\"/></a>"
      ]
    },
    {
      "cell_type": "markdown",
      "metadata": {
        "id": "fW0rnO9NBxCf"
      },
      "source": [
        "Documentation of the problem formulation"
      ]
    },
    {
      "cell_type": "code",
      "metadata": {
        "id": "i8Udtc1qBzrZ"
      },
      "source": [
        "#Programming"
      ],
      "execution_count": 1,
      "outputs": []
    },
    {
      "cell_type": "markdown",
      "metadata": {
        "id": "I74x5MaQCWBc"
      },
      "source": [
        "Analysis of the results\n"
      ]
    },
    {
      "cell_type": "markdown",
      "metadata": {
        "id": "7xTAOtTrCclk"
      },
      "source": [
        "Bonus"
      ]
    },
    {
      "cell_type": "code",
      "metadata": {
        "id": "mNFWDr_iCg8D"
      },
      "source": [
        "#Programming for Bonus"
      ],
      "execution_count": 2,
      "outputs": []
    }
  ]
}